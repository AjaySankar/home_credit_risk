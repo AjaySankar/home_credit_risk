{
 "cells": [
  {
   "cell_type": "code",
   "execution_count": 1,
   "metadata": {
    "ExecuteTime": {
     "end_time": "2020-05-04T09:11:35.962362Z",
     "start_time": "2020-05-04T09:11:34.711286Z"
    }
   },
   "outputs": [],
   "source": [
    "import matplotlib\n",
    "import matplotlib.pyplot as plt\n",
    "import seaborn as sns\n",
    "%matplotlib inline\n",
    "import numpy as np\n",
    "import pandas as pd\n",
    "\n",
    "## To print everything in a cell, not just the last print statement ##\n",
    "from IPython.core.interactiveshell import InteractiveShell\n",
    "InteractiveShell.ast_node_interactivity = \"all\""
   ]
  },
  {
   "cell_type": "code",
   "execution_count": 2,
   "metadata": {
    "ExecuteTime": {
     "end_time": "2020-05-04T09:11:39.071924Z",
     "start_time": "2020-05-04T09:11:35.964560Z"
    }
   },
   "outputs": [],
   "source": [
    "df = pd.read_csv('application_train.csv', header=0)"
   ]
  },
  {
   "cell_type": "code",
   "execution_count": 3,
   "metadata": {
    "ExecuteTime": {
     "end_time": "2020-05-04T09:11:39.083004Z",
     "start_time": "2020-05-04T09:11:39.074734Z"
    }
   },
   "outputs": [],
   "source": [
    "def classCountsInAnInterval(sub_df, interval):\n",
    "    \"\"\" Returns the total number of instances of  paid/unpaid loans in a given interval \"\"\"\n",
    "    \"\"\" Input: Dataframe with class counts of the interval passed \"\"\"\n",
    "    class0, class1 = 0, 0\n",
    "    # This check to handle cases where few intervals have only either paid/un-paid loans.\n",
    "    if np.isscalar(sub_df[sub_df[\"loan_paid_status\"] == 1]):\n",
    "        class0 = class0 + sub_df[sub_df[\"loan_paid_status\"] == 0]\n",
    "        class1 = class1 + sub_df[sub_df[\"loan_paid_status\"] == 1]\n",
    "    else:\n",
    "        class0 = class0 + int(sub_df[sub_df[\"loan_paid_status\"] == 0]['count'])\n",
    "        class1 = class1 + int(sub_df[sub_df[\"loan_paid_status\"] == 1]['count'])\n",
    "    return (class0+class1, class1, interval)"
   ]
  },
  {
   "cell_type": "code",
   "execution_count": 4,
   "metadata": {
    "ExecuteTime": {
     "end_time": "2020-05-04T09:11:39.099028Z",
     "start_time": "2020-05-04T09:11:39.089166Z"
    }
   },
   "outputs": [],
   "source": [
    "def getIntervalBasedCounts(df, category, no_of_bins=50):\n",
    "    \"\"\" Input: A continous numerical category \"\"\"\n",
    "    \"\"\" Create bins from the category data points and count total loans, unpaid loans for each bin \"\"\"\n",
    "    \n",
    "    # Create bins #\n",
    "    continous_numerical_category = category\n",
    "    binned_columns_name = continous_numerical_category + '_BINNED'\n",
    "    credit_and_loan_df = pd.DataFrame(data={'loan_paid_status': df['TARGET'], \n",
    "                                     continous_numerical_category: df[continous_numerical_category] })\n",
    "    credit_and_loan_df[binned_columns_name] = pd.cut(credit_and_loan_df[continous_numerical_category], \n",
    "                                                     bins = np.linspace(\n",
    "                                                         min(credit_and_loan_df[continous_numerical_category]), \n",
    "                                                         max(credit_and_loan_df[continous_numerical_category]), \n",
    "                                                         num = no_of_bins),\n",
    "                                                     retbins=False)\n",
    "    \n",
    "    # Groupby \"bin + loan_paid_status\" and agg the size of each group.\n",
    "    # This calculates the paid and unpaid loans counts in each bin.\n",
    "    credit_and_loan_df = credit_and_loan_df.groupby([binned_columns_name, 'loan_paid_status']).size().to_frame()\n",
    "    credit_and_loan_df.reset_index(inplace=True)\n",
    "    credit_and_loan_df.set_index(binned_columns_name, inplace=True)\n",
    "    \n",
    "    # Binned column is of  type \"Categorical Index\" which is not useful in that format. #\n",
    "    # Converting the bins to string format so that we can plot better based on bin. #\n",
    "    integer_intervals = list(map(lambda interval: (interval.left,interval.right), credit_and_loan_df.index))\n",
    "    credit_and_loan_df['integer_intervals'] = list(map(lambda interval: \n",
    "                                                       str(int(interval[0])) + '-' + str(int(interval[1])), \n",
    "                                                       integer_intervals))\n",
    "    credit_and_loan_df.reset_index(inplace=True)\n",
    "    # Drop the bins column of type \"Categorical Index\"\n",
    "    credit_and_loan_df = credit_and_loan_df.drop([binned_columns_name], axis=1)\n",
    "    credit_and_loan_df.set_index('integer_intervals', inplace=True)\n",
    "    credit_and_loan_df = credit_and_loan_df.rename(columns={0: \"count\"})\n",
    "    \n",
    "    # The dataframe looks like the following\n",
    "    # bin1 - loan_paid_count\n",
    "    # bin1 - loan_not_paid_count\n",
    "    # bin2 - loan_paid_count\n",
    "    # bin2 - loan_not_paid_count ...\n",
    "    \n",
    "    # Calculate the total loans and percentage of unpaid loans in each bin.\n",
    "    totalCountAndUnpaidCountPerInterval = pd.DataFrame(list(map(lambda interval: \n",
    "                                                                classCountsInAnInterval(\n",
    "                                                                    credit_and_loan_df.loc[interval], interval), \n",
    "                                                                list(set(credit_and_loan_df.index)))), \n",
    "                                                       columns=['Total Loans', 'Unpaid Loans', \n",
    "                                                                continous_numerical_category])\n",
    "    totalCountAndUnpaidCountPerInterval['percentage_unpaid_loans'] = (totalCountAndUnpaidCountPerInterval['Unpaid Loans'] \n",
    "                                                                      / totalCountAndUnpaidCountPerInterval['Total Loans']) * 100\n",
    "    return totalCountAndUnpaidCountPerInterval"
   ]
  },
  {
   "cell_type": "code",
   "execution_count": 5,
   "metadata": {
    "ExecuteTime": {
     "end_time": "2020-05-04T09:11:39.109381Z",
     "start_time": "2020-05-04T09:11:39.100873Z"
    }
   },
   "outputs": [],
   "source": [
    "def plotTotalAndUnpaidLoansPerBin(df, featureColumn, totalLoansColumn = \"Total Loans\", \n",
    "                                  unpaidLoansColumn = \"Unpaid Loans\", top_n_intervals=20, \n",
    "                                  figsize=(30, 30), transpose=False):\n",
    "    \"\"\" Plots bins versus total number of loans and unpaid loans \"\"\"\n",
    "    total_axes_data = [featureColumn, totalLoansColumn]\n",
    "    unpaid_axes_data = [featureColumn, unpaidLoansColumn]\n",
    "    if transpose:\n",
    "        total_axes_data[0], total_axes_data[1] = total_axes_data[1], total_axes_data[0]\n",
    "        unpaid_axes_data[0], unpaid_axes_data[1] = unpaid_axes_data[1], unpaid_axes_data[0]\n",
    "    sns.set(style=\"whitegrid\")\n",
    "    df = df.sort_values(totalLoansColumn, ascending=False).head(top_n_intervals)\n",
    "    # Initialize the matplotlib figure\n",
    "    f, ax = plt.subplots(figsize=figsize)\n",
    "\n",
    "    # Plot the total loans\n",
    "    sns.set_color_codes(\"pastel\")\n",
    "    sns.barplot(x=total_axes_data[0], y=total_axes_data[1], data=df, label=\"Total\", color=\"b\")\n",
    "\n",
    "    # Plot the loans which were unpaid\n",
    "    sns.set_color_codes(\"muted\")\n",
    "\n",
    "    plt.xticks(fontsize=20)\n",
    "    plt.yticks(fontsize=20)\n",
    "    plt.xlabel('xlabel', fontsize=20)\n",
    "    plt.ylabel('ylabel', fontsize=20)\n",
    "\n",
    "    sns.barplot(x=unpaid_axes_data[0], y=unpaid_axes_data[1], data=df, label=\"Unpaid Loans\", color=\"b\")\n",
    "\n",
    "    # Add a legend and informative axis label\n",
    "    ax.legend(ncol=2, loc=\"lower right\", frameon=True)\n",
    "    ax.set(ylabel=featureColumn, xlabel=\"Number of loans\")\n",
    "    sns.despine(left=True, bottom=True)"
   ]
  },
  {
   "cell_type": "code",
   "execution_count": 6,
   "metadata": {
    "ExecuteTime": {
     "end_time": "2020-05-04T09:11:39.116386Z",
     "start_time": "2020-05-04T09:11:39.110961Z"
    }
   },
   "outputs": [],
   "source": [
    "def plotPercentageUnpaidLoansPerBin(df, feature, top_n_intervals=20, figsize=(30, 30), transpose=False):\n",
    "    \"\"\" Plots bins versus percentage of unpaid loans in that bin \"\"\"\n",
    "    font = {\n",
    "        'weight' : 'bold',\n",
    "        'size'   : 40\n",
    "    }\n",
    "    axes_data = [feature, 'percentage_unpaid_loans']\n",
    "    if transpose:\n",
    "        axes_data[0], axes_data[1] = axes_data[1], axes_data[0]\n",
    "    matplotlib.rc('font', **font)\n",
    "    f, axes = plt.subplots(1, 1, figsize=figsize)\n",
    "    plt.xticks(fontsize=20)\n",
    "    plt.yticks(fontsize=20)\n",
    "    plt.xlabel('xlabel', fontsize=10)\n",
    "    plt.ylabel('ylabel', fontsize=10)\n",
    "    df = df.sort_values('percentage_unpaid_loans',  ascending=False).head(top_n_intervals)\n",
    "    ax = sns.barplot(x=axes_data[0], y=axes_data[1], data=df, ax=axes)\n",
    "    return df"
   ]
  },
  {
   "cell_type": "code",
   "execution_count": 7,
   "metadata": {
    "ExecuteTime": {
     "end_time": "2020-05-04T09:11:39.124868Z",
     "start_time": "2020-05-04T09:11:39.118221Z"
    }
   },
   "outputs": [],
   "source": [
    "def processCategoricalFeature(category):\n",
    "    df_category = pd.DataFrame(df, columns=[category, 'TARGET'])\n",
    "    df_category = df_category.groupby([category, 'TARGET']).size().to_frame()\n",
    "    df_category.reset_index(inplace=True)\n",
    "    df_category.set_index(category, inplace=True)\n",
    "    df_category.rename(columns={0: \"count\"}, inplace=True)\n",
    "    df_category.rename(columns={'TARGET': \"loan_paid_status\"}, inplace=True)\n",
    "    df_category = pd.DataFrame(list(map(lambda interval: classCountsInAnInterval(df_category.loc[interval], interval), \n",
    "                                 list(set(df_category.index)))), \n",
    "                        columns=['Total Loans', 'Unpaid Loans', feature_name])\n",
    "    df_category['percentage_unpaid_loans'] = (df_category['Unpaid Loans'] / df_category['Total Loans']) * 100\n",
    "    return df_category"
   ]
  },
  {
   "cell_type": "code",
   "execution_count": 8,
   "metadata": {
    "ExecuteTime": {
     "end_time": "2020-05-04T09:11:39.128411Z",
     "start_time": "2020-05-04T09:11:39.126325Z"
    }
   },
   "outputs": [],
   "source": [
    "feature_name = \"REGION_RATING_CLIENT_W_CITY\""
   ]
  },
  {
   "cell_type": "code",
   "execution_count": 9,
   "metadata": {
    "ExecuteTime": {
     "end_time": "2020-05-04T09:11:39.175780Z",
     "start_time": "2020-05-04T09:11:39.131221Z"
    }
   },
   "outputs": [
    {
     "data": {
      "text/html": [
       "<div>\n",
       "<style scoped>\n",
       "    .dataframe tbody tr th:only-of-type {\n",
       "        vertical-align: middle;\n",
       "    }\n",
       "\n",
       "    .dataframe tbody tr th {\n",
       "        vertical-align: top;\n",
       "    }\n",
       "\n",
       "    .dataframe thead th {\n",
       "        text-align: right;\n",
       "    }\n",
       "</style>\n",
       "<table border=\"1\" class=\"dataframe\">\n",
       "  <thead>\n",
       "    <tr style=\"text-align: right;\">\n",
       "      <th></th>\n",
       "      <th>Total Loans</th>\n",
       "      <th>Unpaid Loans</th>\n",
       "      <th>REGION_RATING_CLIENT_W_CITY</th>\n",
       "      <th>percentage_unpaid_loans</th>\n",
       "    </tr>\n",
       "  </thead>\n",
       "  <tbody>\n",
       "    <tr>\n",
       "      <td>0</td>\n",
       "      <td>34167</td>\n",
       "      <td>1654</td>\n",
       "      <td>1</td>\n",
       "      <td>4.840928</td>\n",
       "    </tr>\n",
       "    <tr>\n",
       "      <td>1</td>\n",
       "      <td>229484</td>\n",
       "      <td>18170</td>\n",
       "      <td>2</td>\n",
       "      <td>7.917763</td>\n",
       "    </tr>\n",
       "    <tr>\n",
       "      <td>2</td>\n",
       "      <td>43860</td>\n",
       "      <td>5001</td>\n",
       "      <td>3</td>\n",
       "      <td>11.402189</td>\n",
       "    </tr>\n",
       "  </tbody>\n",
       "</table>\n",
       "</div>"
      ],
      "text/plain": [
       "   Total Loans  Unpaid Loans  REGION_RATING_CLIENT_W_CITY  \\\n",
       "0        34167          1654                            1   \n",
       "1       229484         18170                            2   \n",
       "2        43860          5001                            3   \n",
       "\n",
       "   percentage_unpaid_loans  \n",
       "0                 4.840928  \n",
       "1                 7.917763  \n",
       "2                11.402189  "
      ]
     },
     "execution_count": 9,
     "metadata": {},
     "output_type": "execute_result"
    }
   ],
   "source": [
    "feature_summary = processCategoricalFeature(feature_name)\n",
    "feature_summary"
   ]
  },
  {
   "cell_type": "code",
   "execution_count": 10,
   "metadata": {
    "ExecuteTime": {
     "end_time": "2020-05-04T09:11:39.360454Z",
     "start_time": "2020-05-04T09:11:39.177931Z"
    }
   },
   "outputs": [
    {
     "data": {
      "image/png": "[encoded data removed]",
      "text/plain": [
       "<Figure size 360x360 with 1 Axes>"
      ]
     },
     "metadata": {},
     "output_type": "display_data"
    }
   ],
   "source": [
    "plotTotalAndUnpaidLoansPerBin(feature_summary, feature_name, figsize=(5,5))"
   ]
  },
  {
   "cell_type": "code",
   "execution_count": 11,
   "metadata": {
    "ExecuteTime": {
     "end_time": "2020-05-04T09:11:39.508419Z",
     "start_time": "2020-05-04T09:11:39.362427Z"
    }
   },
   "outputs": [
    {
     "data": {
      "text/html": [
       "<div>\n",
       "<style scoped>\n",
       "    .dataframe tbody tr th:only-of-type {\n",
       "        vertical-align: middle;\n",
       "    }\n",
       "\n",
       "    .dataframe tbody tr th {\n",
       "        vertical-align: top;\n",
       "    }\n",
       "\n",
       "    .dataframe thead th {\n",
       "        text-align: right;\n",
       "    }\n",
       "</style>\n",
       "<table border=\"1\" class=\"dataframe\">\n",
       "  <thead>\n",
       "    <tr style=\"text-align: right;\">\n",
       "      <th></th>\n",
       "      <th>Total Loans</th>\n",
       "      <th>Unpaid Loans</th>\n",
       "      <th>REGION_RATING_CLIENT_W_CITY</th>\n",
       "      <th>percentage_unpaid_loans</th>\n",
       "    </tr>\n",
       "  </thead>\n",
       "  <tbody>\n",
       "    <tr>\n",
       "      <td>2</td>\n",
       "      <td>43860</td>\n",
       "      <td>5001</td>\n",
       "      <td>3</td>\n",
       "      <td>11.402189</td>\n",
       "    </tr>\n",
       "    <tr>\n",
       "      <td>1</td>\n",
       "      <td>229484</td>\n",
       "      <td>18170</td>\n",
       "      <td>2</td>\n",
       "      <td>7.917763</td>\n",
       "    </tr>\n",
       "    <tr>\n",
       "      <td>0</td>\n",
       "      <td>34167</td>\n",
       "      <td>1654</td>\n",
       "      <td>1</td>\n",
       "      <td>4.840928</td>\n",
       "    </tr>\n",
       "  </tbody>\n",
       "</table>\n",
       "</div>"
      ],
      "text/plain": [
       "   Total Loans  Unpaid Loans  REGION_RATING_CLIENT_W_CITY  \\\n",
       "2        43860          5001                            3   \n",
       "1       229484         18170                            2   \n",
       "0        34167          1654                            1   \n",
       "\n",
       "   percentage_unpaid_loans  \n",
       "2                11.402189  \n",
       "1                 7.917763  \n",
       "0                 4.840928  "
      ]
     },
     "execution_count": 11,
     "metadata": {},
     "output_type": "execute_result"
    },
    {
     "data": {
      "image/png": "[encoded data removed]",
      "text/plain": [
       "<Figure size 360x360 with 1 Axes>"
      ]
     },
     "metadata": {},
     "output_type": "display_data"
    }
   ],
   "source": [
    "plotPercentageUnpaidLoansPerBin(feature_summary, feature_name, figsize=(5,5))"
   ]
  }
 ],
 "metadata": {
  "kernelspec": {
   "display_name": "Python 3",
   "language": "python",
   "name": "python3"
  },
  "language_info": {
   "codemirror_mode": {
    "name": "ipython",
    "version": 3
   },
   "file_extension": ".py",
   "mimetype": "text/x-python",
   "name": "python",
   "nbconvert_exporter": "python",
   "pygments_lexer": "ipython3",
   "version": "3.7.4"
  }
 },
 "nbformat": 4,
 "nbformat_minor": 2
}
