{
 "cells": [
  {
   "cell_type": "code",
   "execution_count": 1,
   "metadata": {
    "ExecuteTime": {
     "end_time": "2020-05-02T07:05:04.841421Z",
     "start_time": "2020-05-02T07:05:03.328963Z"
    }
   },
   "outputs": [],
   "source": [
    "import matplotlib.pyplot as plt\n",
    "import seaborn as sns\n",
    "%matplotlib inline\n",
    "import numpy as np\n",
    "import pandas as pd\n",
    "import matplotlib.pyplot as plt\n",
    "\n",
    "## To print everything in a cell, not just the last print statement ##\n",
    "from IPython.core.interactiveshell import InteractiveShell\n",
    "InteractiveShell.ast_node_interactivity = \"all\""
   ]
  },
  {
   "cell_type": "code",
   "execution_count": 2,
   "metadata": {
    "ExecuteTime": {
     "end_time": "2020-05-02T07:05:07.615226Z",
     "start_time": "2020-05-02T07:05:04.843919Z"
    }
   },
   "outputs": [],
   "source": [
    "df = pd.read_csv('application_train.csv', header=0)"
   ]
  },
  {
   "cell_type": "code",
   "execution_count": 3,
   "metadata": {
    "ExecuteTime": {
     "end_time": "2020-05-02T07:05:07.623900Z",
     "start_time": "2020-05-02T07:05:07.617784Z"
    }
   },
   "outputs": [],
   "source": [
    "credit_and_loan_df = pd.DataFrame(data={'loan_paid_status': df['TARGET'], \n",
    "                                     'AMT_CREDIT': df['AMT_CREDIT'] })"
   ]
  },
  {
   "cell_type": "code",
   "execution_count": 4,
   "metadata": {
    "ExecuteTime": {
     "end_time": "2020-05-02T07:05:07.696650Z",
     "start_time": "2020-05-02T07:05:07.626463Z"
    }
   },
   "outputs": [],
   "source": [
    "credit_and_loan_df['AMT_CREDIT_BINNED'] = pd.cut(credit_and_loan_df['AMT_CREDIT'], \n",
    "                                         bins = np.linspace(min(credit_and_loan_df['AMT_CREDIT']), \n",
    "                                                            max(credit_and_loan_df['AMT_CREDIT']), num = 100),\n",
    "                                                retbins=False)"
   ]
  },
  {
   "cell_type": "code",
   "execution_count": 5,
   "metadata": {
    "ExecuteTime": {
     "end_time": "2020-05-02T07:05:07.719186Z",
     "start_time": "2020-05-02T07:05:07.698795Z"
    }
   },
   "outputs": [
    {
     "data": {
      "text/html": [
       "<div>\n",
       "<style scoped>\n",
       "    .dataframe tbody tr th:only-of-type {\n",
       "        vertical-align: middle;\n",
       "    }\n",
       "\n",
       "    .dataframe tbody tr th {\n",
       "        vertical-align: top;\n",
       "    }\n",
       "\n",
       "    .dataframe thead th {\n",
       "        text-align: right;\n",
       "    }\n",
       "</style>\n",
       "<table border=\"1\" class=\"dataframe\">\n",
       "  <thead>\n",
       "    <tr style=\"text-align: right;\">\n",
       "      <th></th>\n",
       "      <th>loan_paid_status</th>\n",
       "      <th>AMT_CREDIT</th>\n",
       "      <th>AMT_CREDIT_BINNED</th>\n",
       "    </tr>\n",
       "  </thead>\n",
       "  <tbody>\n",
       "    <tr>\n",
       "      <td>0</td>\n",
       "      <td>1</td>\n",
       "      <td>406597.5</td>\n",
       "      <td>(368636.364, 409090.909]</td>\n",
       "    </tr>\n",
       "    <tr>\n",
       "      <td>1</td>\n",
       "      <td>0</td>\n",
       "      <td>1293502.5</td>\n",
       "      <td>(1258636.364, 1299090.909]</td>\n",
       "    </tr>\n",
       "    <tr>\n",
       "      <td>2</td>\n",
       "      <td>0</td>\n",
       "      <td>135000.0</td>\n",
       "      <td>(125909.091, 166363.636]</td>\n",
       "    </tr>\n",
       "    <tr>\n",
       "      <td>3</td>\n",
       "      <td>0</td>\n",
       "      <td>312682.5</td>\n",
       "      <td>(287727.273, 328181.818]</td>\n",
       "    </tr>\n",
       "    <tr>\n",
       "      <td>4</td>\n",
       "      <td>0</td>\n",
       "      <td>513000.0</td>\n",
       "      <td>(490000.0, 530454.545]</td>\n",
       "    </tr>\n",
       "    <tr>\n",
       "      <td>...</td>\n",
       "      <td>...</td>\n",
       "      <td>...</td>\n",
       "      <td>...</td>\n",
       "    </tr>\n",
       "    <tr>\n",
       "      <td>307506</td>\n",
       "      <td>0</td>\n",
       "      <td>254700.0</td>\n",
       "      <td>(247272.727, 287727.273]</td>\n",
       "    </tr>\n",
       "    <tr>\n",
       "      <td>307507</td>\n",
       "      <td>0</td>\n",
       "      <td>269550.0</td>\n",
       "      <td>(247272.727, 287727.273]</td>\n",
       "    </tr>\n",
       "    <tr>\n",
       "      <td>307508</td>\n",
       "      <td>0</td>\n",
       "      <td>677664.0</td>\n",
       "      <td>(651818.182, 692272.727]</td>\n",
       "    </tr>\n",
       "    <tr>\n",
       "      <td>307509</td>\n",
       "      <td>1</td>\n",
       "      <td>370107.0</td>\n",
       "      <td>(368636.364, 409090.909]</td>\n",
       "    </tr>\n",
       "    <tr>\n",
       "      <td>307510</td>\n",
       "      <td>0</td>\n",
       "      <td>675000.0</td>\n",
       "      <td>(651818.182, 692272.727]</td>\n",
       "    </tr>\n",
       "  </tbody>\n",
       "</table>\n",
       "<p>307511 rows × 3 columns</p>\n",
       "</div>"
      ],
      "text/plain": [
       "        loan_paid_status  AMT_CREDIT           AMT_CREDIT_BINNED\n",
       "0                      1    406597.5    (368636.364, 409090.909]\n",
       "1                      0   1293502.5  (1258636.364, 1299090.909]\n",
       "2                      0    135000.0    (125909.091, 166363.636]\n",
       "3                      0    312682.5    (287727.273, 328181.818]\n",
       "4                      0    513000.0      (490000.0, 530454.545]\n",
       "...                  ...         ...                         ...\n",
       "307506                 0    254700.0    (247272.727, 287727.273]\n",
       "307507                 0    269550.0    (247272.727, 287727.273]\n",
       "307508                 0    677664.0    (651818.182, 692272.727]\n",
       "307509                 1    370107.0    (368636.364, 409090.909]\n",
       "307510                 0    675000.0    (651818.182, 692272.727]\n",
       "\n",
       "[307511 rows x 3 columns]"
      ]
     },
     "execution_count": 5,
     "metadata": {},
     "output_type": "execute_result"
    }
   ],
   "source": [
    "credit_and_loan_df"
   ]
  },
  {
   "cell_type": "code",
   "execution_count": 6,
   "metadata": {
    "ExecuteTime": {
     "end_time": "2020-05-02T07:05:07.754898Z",
     "start_time": "2020-05-02T07:05:07.721005Z"
    }
   },
   "outputs": [
    {
     "data": {
      "text/html": [
       "<div>\n",
       "<style scoped>\n",
       "    .dataframe tbody tr th:only-of-type {\n",
       "        vertical-align: middle;\n",
       "    }\n",
       "\n",
       "    .dataframe tbody tr th {\n",
       "        vertical-align: top;\n",
       "    }\n",
       "\n",
       "    .dataframe thead th {\n",
       "        text-align: right;\n",
       "    }\n",
       "</style>\n",
       "<table border=\"1\" class=\"dataframe\">\n",
       "  <thead>\n",
       "    <tr style=\"text-align: right;\">\n",
       "      <th></th>\n",
       "      <th>loan_paid_status</th>\n",
       "      <th>count</th>\n",
       "    </tr>\n",
       "    <tr>\n",
       "      <th>integer_intervals</th>\n",
       "      <th></th>\n",
       "      <th></th>\n",
       "    </tr>\n",
       "  </thead>\n",
       "  <tbody>\n",
       "    <tr>\n",
       "      <td>45000.0-85454.545</td>\n",
       "      <td>0</td>\n",
       "      <td>3384</td>\n",
       "    </tr>\n",
       "    <tr>\n",
       "      <td>45000.0-85454.545</td>\n",
       "      <td>1</td>\n",
       "      <td>188</td>\n",
       "    </tr>\n",
       "    <tr>\n",
       "      <td>85454.545-125909.091</td>\n",
       "      <td>0</td>\n",
       "      <td>6162</td>\n",
       "    </tr>\n",
       "    <tr>\n",
       "      <td>85454.545-125909.091</td>\n",
       "      <td>1</td>\n",
       "      <td>415</td>\n",
       "    </tr>\n",
       "    <tr>\n",
       "      <td>125909.091-166363.636</td>\n",
       "      <td>0</td>\n",
       "      <td>11738</td>\n",
       "    </tr>\n",
       "    <tr>\n",
       "      <td>...</td>\n",
       "      <td>...</td>\n",
       "      <td>...</td>\n",
       "    </tr>\n",
       "    <tr>\n",
       "      <td>3564545.455-3605000.0</td>\n",
       "      <td>0</td>\n",
       "      <td>2</td>\n",
       "    </tr>\n",
       "    <tr>\n",
       "      <td>3847727.273-3888181.818</td>\n",
       "      <td>0</td>\n",
       "      <td>1</td>\n",
       "    </tr>\n",
       "    <tr>\n",
       "      <td>3928636.364-3969090.909</td>\n",
       "      <td>0</td>\n",
       "      <td>1</td>\n",
       "    </tr>\n",
       "    <tr>\n",
       "      <td>4009545.455-4050000.0</td>\n",
       "      <td>0</td>\n",
       "      <td>9</td>\n",
       "    </tr>\n",
       "    <tr>\n",
       "      <td>4009545.455-4050000.0</td>\n",
       "      <td>1</td>\n",
       "      <td>1</td>\n",
       "    </tr>\n",
       "  </tbody>\n",
       "</table>\n",
       "<p>142 rows × 2 columns</p>\n",
       "</div>"
      ],
      "text/plain": [
       "                         loan_paid_status  count\n",
       "integer_intervals                               \n",
       "45000.0-85454.545                       0   3384\n",
       "45000.0-85454.545                       1    188\n",
       "85454.545-125909.091                    0   6162\n",
       "85454.545-125909.091                    1    415\n",
       "125909.091-166363.636                   0  11738\n",
       "...                                   ...    ...\n",
       "3564545.455-3605000.0                   0      2\n",
       "3847727.273-3888181.818                 0      1\n",
       "3928636.364-3969090.909                 0      1\n",
       "4009545.455-4050000.0                   0      9\n",
       "4009545.455-4050000.0                   1      1\n",
       "\n",
       "[142 rows x 2 columns]"
      ]
     },
     "execution_count": 6,
     "metadata": {},
     "output_type": "execute_result"
    }
   ],
   "source": [
    "credit_and_loan_df = credit_and_loan_df.groupby(['AMT_CREDIT_BINNED', 'loan_paid_status']).size().to_frame()\n",
    "credit_and_loan_df.reset_index(inplace=True)\n",
    "credit_and_loan_df.set_index('AMT_CREDIT_BINNED', inplace=True)\n",
    "integer_intervals = list(map(lambda interval: (interval.left,interval.right), credit_and_loan_df.index))\n",
    "credit_and_loan_df['integer_intervals'] = list(map(lambda interval: str(interval[0]) + '-' + str(interval[1]), \n",
    "                                                   integer_intervals))\n",
    "credit_and_loan_df.reset_index(inplace=True)\n",
    "credit_and_loan_df = credit_and_loan_df.drop(['AMT_CREDIT_BINNED'], axis=1)\n",
    "credit_and_loan_df.set_index('integer_intervals', inplace=True)\n",
    "credit_and_loan_df = credit_and_loan_df.rename(columns={0: \"count\"})\n",
    "credit_and_loan_df"
   ]
  },
  {
   "cell_type": "code",
   "execution_count": 7,
   "metadata": {
    "ExecuteTime": {
     "end_time": "2020-05-02T07:05:07.761557Z",
     "start_time": "2020-05-02T07:05:07.756778Z"
    }
   },
   "outputs": [],
   "source": [
    "def f(interval):\n",
    "    class0, class1 = 0, 0\n",
    "    sub_df = credit_and_loan_df.loc[interval]\n",
    "    if np.isscalar(sub_df[sub_df[\"loan_paid_status\"] == 1]):\n",
    "        class0 = class0 + sub_df[sub_df[\"loan_paid_status\"] == 0]\n",
    "        class1 = class1 + sub_df[sub_df[\"loan_paid_status\"] == 1]\n",
    "    else:\n",
    "        class0 = class0 + int(sub_df[sub_df[\"loan_paid_status\"] == 0]['count'])\n",
    "        class1 = class1 + int(sub_df[sub_df[\"loan_paid_status\"] == 1]['count'])\n",
    "    return (class0+class1, class1, interval)"
   ]
  },
  {
   "cell_type": "code",
   "execution_count": 8,
   "metadata": {
    "ExecuteTime": {
     "end_time": "2020-05-02T07:05:07.886262Z",
     "start_time": "2020-05-02T07:05:07.763619Z"
    }
   },
   "outputs": [],
   "source": [
    "totalCountAndUnpaidCountPerInterval = pd.DataFrame(list(map(f, list(set(credit_and_loan_df.index)))), \n",
    "                                                   columns=['Total Loans', 'Unpaid Loans', 'AMT_CREDIT Interval'])"
   ]
  },
  {
   "cell_type": "code",
   "execution_count": 9,
   "metadata": {
    "ExecuteTime": {
     "end_time": "2020-05-02T07:05:07.896712Z",
     "start_time": "2020-05-02T07:05:07.889288Z"
    }
   },
   "outputs": [
    {
     "data": {
      "text/html": [
       "<div>\n",
       "<style scoped>\n",
       "    .dataframe tbody tr th:only-of-type {\n",
       "        vertical-align: middle;\n",
       "    }\n",
       "\n",
       "    .dataframe tbody tr th {\n",
       "        vertical-align: top;\n",
       "    }\n",
       "\n",
       "    .dataframe thead th {\n",
       "        text-align: right;\n",
       "    }\n",
       "</style>\n",
       "<table border=\"1\" class=\"dataframe\">\n",
       "  <thead>\n",
       "    <tr style=\"text-align: right;\">\n",
       "      <th></th>\n",
       "      <th>Total Loans</th>\n",
       "      <th>Unpaid Loans</th>\n",
       "      <th>AMT_CREDIT Interval</th>\n",
       "    </tr>\n",
       "  </thead>\n",
       "  <tbody>\n",
       "    <tr>\n",
       "      <td>0</td>\n",
       "      <td>1</td>\n",
       "      <td>0</td>\n",
       "      <td>3928636.364-3969090.909</td>\n",
       "    </tr>\n",
       "    <tr>\n",
       "      <td>1</td>\n",
       "      <td>233</td>\n",
       "      <td>4</td>\n",
       "      <td>1905909.091-1946363.636</td>\n",
       "    </tr>\n",
       "    <tr>\n",
       "      <td>2</td>\n",
       "      <td>15429</td>\n",
       "      <td>1628</td>\n",
       "      <td>530454.545-570909.091</td>\n",
       "    </tr>\n",
       "    <tr>\n",
       "      <td>3</td>\n",
       "      <td>1042</td>\n",
       "      <td>45</td>\n",
       "      <td>1460909.091-1501363.636</td>\n",
       "    </tr>\n",
       "    <tr>\n",
       "      <td>4</td>\n",
       "      <td>5975</td>\n",
       "      <td>469</td>\n",
       "      <td>1056363.636-1096818.182</td>\n",
       "    </tr>\n",
       "    <tr>\n",
       "      <td>...</td>\n",
       "      <td>...</td>\n",
       "      <td>...</td>\n",
       "      <td>...</td>\n",
       "    </tr>\n",
       "    <tr>\n",
       "      <td>72</td>\n",
       "      <td>8015</td>\n",
       "      <td>772</td>\n",
       "      <td>368636.364-409090.909</td>\n",
       "    </tr>\n",
       "    <tr>\n",
       "      <td>73</td>\n",
       "      <td>11436</td>\n",
       "      <td>1123</td>\n",
       "      <td>328181.818-368636.364</td>\n",
       "    </tr>\n",
       "    <tr>\n",
       "      <td>74</td>\n",
       "      <td>332</td>\n",
       "      <td>21</td>\n",
       "      <td>1582272.727-1622727.273</td>\n",
       "    </tr>\n",
       "    <tr>\n",
       "      <td>75</td>\n",
       "      <td>5866</td>\n",
       "      <td>729</td>\n",
       "      <td>409090.909-449545.455</td>\n",
       "    </tr>\n",
       "    <tr>\n",
       "      <td>76</td>\n",
       "      <td>2550</td>\n",
       "      <td>119</td>\n",
       "      <td>1541818.182-1582272.727</td>\n",
       "    </tr>\n",
       "  </tbody>\n",
       "</table>\n",
       "<p>77 rows × 3 columns</p>\n",
       "</div>"
      ],
      "text/plain": [
       "    Total Loans  Unpaid Loans      AMT_CREDIT Interval\n",
       "0             1             0  3928636.364-3969090.909\n",
       "1           233             4  1905909.091-1946363.636\n",
       "2         15429          1628    530454.545-570909.091\n",
       "3          1042            45  1460909.091-1501363.636\n",
       "4          5975           469  1056363.636-1096818.182\n",
       "..          ...           ...                      ...\n",
       "72         8015           772    368636.364-409090.909\n",
       "73        11436          1123    328181.818-368636.364\n",
       "74          332            21  1582272.727-1622727.273\n",
       "75         5866           729    409090.909-449545.455\n",
       "76         2550           119  1541818.182-1582272.727\n",
       "\n",
       "[77 rows x 3 columns]"
      ]
     },
     "execution_count": 9,
     "metadata": {},
     "output_type": "execute_result"
    }
   ],
   "source": [
    "totalCountAndUnpaidCountPerInterval"
   ]
  },
  {
   "cell_type": "code",
   "execution_count": 10,
   "metadata": {
    "ExecuteTime": {
     "end_time": "2020-05-02T07:05:07.902073Z",
     "start_time": "2020-05-02T07:05:07.898478Z"
    }
   },
   "outputs": [],
   "source": [
    "topLoanIntervalsAsPerCredit = totalCountAndUnpaidCountPerInterval.sort_values('Total Loans',  \n",
    "                                                                              ascending=False).head(20)"
   ]
  },
  {
   "cell_type": "code",
   "execution_count": 11,
   "metadata": {
    "ExecuteTime": {
     "end_time": "2020-05-02T07:05:07.910279Z",
     "start_time": "2020-05-02T07:05:07.903696Z"
    }
   },
   "outputs": [
    {
     "data": {
      "text/html": [
       "<div>\n",
       "<style scoped>\n",
       "    .dataframe tbody tr th:only-of-type {\n",
       "        vertical-align: middle;\n",
       "    }\n",
       "\n",
       "    .dataframe tbody tr th {\n",
       "        vertical-align: top;\n",
       "    }\n",
       "\n",
       "    .dataframe thead th {\n",
       "        text-align: right;\n",
       "    }\n",
       "</style>\n",
       "<table border=\"1\" class=\"dataframe\">\n",
       "  <thead>\n",
       "    <tr style=\"text-align: right;\">\n",
       "      <th></th>\n",
       "      <th>Total Loans</th>\n",
       "      <th>Unpaid Loans</th>\n",
       "      <th>AMT_CREDIT Interval</th>\n",
       "    </tr>\n",
       "  </thead>\n",
       "  <tbody>\n",
       "    <tr>\n",
       "      <td>42</td>\n",
       "      <td>30387</td>\n",
       "      <td>2450</td>\n",
       "      <td>247272.727-287727.273</td>\n",
       "    </tr>\n",
       "    <tr>\n",
       "      <td>44</td>\n",
       "      <td>18347</td>\n",
       "      <td>1778</td>\n",
       "      <td>449545.455-490000.0</td>\n",
       "    </tr>\n",
       "    <tr>\n",
       "      <td>69</td>\n",
       "      <td>16724</td>\n",
       "      <td>1320</td>\n",
       "      <td>166363.636-206818.182</td>\n",
       "    </tr>\n",
       "    <tr>\n",
       "      <td>41</td>\n",
       "      <td>16580</td>\n",
       "      <td>1547</td>\n",
       "      <td>490000.0-530454.545</td>\n",
       "    </tr>\n",
       "    <tr>\n",
       "      <td>64</td>\n",
       "      <td>16197</td>\n",
       "      <td>1244</td>\n",
       "      <td>206818.182-247272.727</td>\n",
       "    </tr>\n",
       "    <tr>\n",
       "      <td>2</td>\n",
       "      <td>15429</td>\n",
       "      <td>1628</td>\n",
       "      <td>530454.545-570909.091</td>\n",
       "    </tr>\n",
       "    <tr>\n",
       "      <td>35</td>\n",
       "      <td>14272</td>\n",
       "      <td>1336</td>\n",
       "      <td>287727.273-328181.818</td>\n",
       "    </tr>\n",
       "    <tr>\n",
       "      <td>66</td>\n",
       "      <td>14156</td>\n",
       "      <td>1047</td>\n",
       "      <td>651818.182-692272.727</td>\n",
       "    </tr>\n",
       "    <tr>\n",
       "      <td>61</td>\n",
       "      <td>12549</td>\n",
       "      <td>811</td>\n",
       "      <td>125909.091-166363.636</td>\n",
       "    </tr>\n",
       "    <tr>\n",
       "      <td>73</td>\n",
       "      <td>11436</td>\n",
       "      <td>1123</td>\n",
       "      <td>328181.818-368636.364</td>\n",
       "    </tr>\n",
       "    <tr>\n",
       "      <td>20</td>\n",
       "      <td>11106</td>\n",
       "      <td>868</td>\n",
       "      <td>773181.818-813636.364</td>\n",
       "    </tr>\n",
       "    <tr>\n",
       "      <td>22</td>\n",
       "      <td>9182</td>\n",
       "      <td>927</td>\n",
       "      <td>570909.091-611363.636</td>\n",
       "    </tr>\n",
       "    <tr>\n",
       "      <td>11</td>\n",
       "      <td>9129</td>\n",
       "      <td>529</td>\n",
       "      <td>894545.455-935000.0</td>\n",
       "    </tr>\n",
       "    <tr>\n",
       "      <td>19</td>\n",
       "      <td>8803</td>\n",
       "      <td>674</td>\n",
       "      <td>732727.273-773181.818</td>\n",
       "    </tr>\n",
       "    <tr>\n",
       "      <td>72</td>\n",
       "      <td>8015</td>\n",
       "      <td>772</td>\n",
       "      <td>368636.364-409090.909</td>\n",
       "    </tr>\n",
       "    <tr>\n",
       "      <td>25</td>\n",
       "      <td>7433</td>\n",
       "      <td>841</td>\n",
       "      <td>611363.636-651818.182</td>\n",
       "    </tr>\n",
       "    <tr>\n",
       "      <td>17</td>\n",
       "      <td>6577</td>\n",
       "      <td>415</td>\n",
       "      <td>85454.545-125909.091</td>\n",
       "    </tr>\n",
       "    <tr>\n",
       "      <td>6</td>\n",
       "      <td>6146</td>\n",
       "      <td>479</td>\n",
       "      <td>813636.364-854090.909</td>\n",
       "    </tr>\n",
       "    <tr>\n",
       "      <td>14</td>\n",
       "      <td>6141</td>\n",
       "      <td>320</td>\n",
       "      <td>1096818.182-1137272.727</td>\n",
       "    </tr>\n",
       "    <tr>\n",
       "      <td>4</td>\n",
       "      <td>5975</td>\n",
       "      <td>469</td>\n",
       "      <td>1056363.636-1096818.182</td>\n",
       "    </tr>\n",
       "  </tbody>\n",
       "</table>\n",
       "</div>"
      ],
      "text/plain": [
       "    Total Loans  Unpaid Loans      AMT_CREDIT Interval\n",
       "42        30387          2450    247272.727-287727.273\n",
       "44        18347          1778      449545.455-490000.0\n",
       "69        16724          1320    166363.636-206818.182\n",
       "41        16580          1547      490000.0-530454.545\n",
       "64        16197          1244    206818.182-247272.727\n",
       "2         15429          1628    530454.545-570909.091\n",
       "35        14272          1336    287727.273-328181.818\n",
       "66        14156          1047    651818.182-692272.727\n",
       "61        12549           811    125909.091-166363.636\n",
       "73        11436          1123    328181.818-368636.364\n",
       "20        11106           868    773181.818-813636.364\n",
       "22         9182           927    570909.091-611363.636\n",
       "11         9129           529      894545.455-935000.0\n",
       "19         8803           674    732727.273-773181.818\n",
       "72         8015           772    368636.364-409090.909\n",
       "25         7433           841    611363.636-651818.182\n",
       "17         6577           415     85454.545-125909.091\n",
       "6          6146           479    813636.364-854090.909\n",
       "14         6141           320  1096818.182-1137272.727\n",
       "4          5975           469  1056363.636-1096818.182"
      ]
     },
     "execution_count": 11,
     "metadata": {},
     "output_type": "execute_result"
    }
   ],
   "source": [
    "topLoanIntervalsAsPerCredit"
   ]
  },
  {
   "cell_type": "code",
   "execution_count": 12,
   "metadata": {
    "ExecuteTime": {
     "end_time": "2020-05-02T07:05:08.486345Z",
     "start_time": "2020-05-02T07:05:07.911802Z"
    }
   },
   "outputs": [
    {
     "data": {
      "text/plain": [
       "<matplotlib.axes._subplots.AxesSubplot at 0x10dec6a90>"
      ]
     },
     "execution_count": 12,
     "metadata": {},
     "output_type": "execute_result"
    },
    {
     "data": {
      "text/plain": [
       "<matplotlib.axes._subplots.AxesSubplot at 0x10dec6a90>"
      ]
     },
     "execution_count": 12,
     "metadata": {},
     "output_type": "execute_result"
    },
    {
     "data": {
      "text/plain": [
       "<matplotlib.legend.Legend at 0x10dea1fd0>"
      ]
     },
     "execution_count": 12,
     "metadata": {},
     "output_type": "execute_result"
    },
    {
     "data": {
      "image/png": "[encoded data removed]",
      "text/plain": [
       "<Figure size 1440x1440 with 1 Axes>"
      ]
     },
     "metadata": {},
     "output_type": "display_data"
    }
   ],
   "source": [
    "import seaborn as sns\n",
    "import matplotlib.pyplot as plt\n",
    "sns.set(style=\"whitegrid\")\n",
    "\n",
    "# Initialize the matplotlib figure\n",
    "f, ax = plt.subplots(figsize=(20, 20))\n",
    "\n",
    "# Load the example car crash dataset\n",
    "# crashes = sns.load_dataset(\"car_crashes\").sort_values(\"total\", ascending=False)\n",
    "\n",
    "# Plot the total crashes\n",
    "sns.set_color_codes(\"pastel\")\n",
    "sns.barplot(x=\"Total Loans\", y=\"AMT_CREDIT Interval\", data=topLoanIntervalsAsPerCredit,\n",
    "            label=\"Total\", color=\"b\")\n",
    "\n",
    "# Plot the crashes where alcohol was involved\n",
    "sns.set_color_codes(\"muted\")\n",
    "sns.barplot(x=\"Unpaid Loans\", y=\"AMT_CREDIT Interval\", data=topLoanIntervalsAsPerCredit,\n",
    "            label=\"Unpaid Loans\", color=\"b\")\n",
    "\n",
    "# Add a legend and informative axis label\n",
    "ax.legend(ncol=2, loc=\"lower right\", frameon=True)\n",
    "# ax.set(xlim=(0, 24), ylabel=\"\",\n",
    "#        xlabel=\"Automobile collisions per billion miles\")\n",
    "# sns.despine(left=True, bottom=True)"
   ]
  }
 ],
 "metadata": {
  "kernelspec": {
   "display_name": "Python 3",
   "language": "python",
   "name": "python3"
  },
  "language_info": {
   "codemirror_mode": {
    "name": "ipython",
    "version": 3
   },
   "file_extension": ".py",
   "mimetype": "text/x-python",
   "name": "python",
   "nbconvert_exporter": "python",
   "pygments_lexer": "ipython3",
   "version": "3.7.4"
  }
 },
 "nbformat": 4,
 "nbformat_minor": 2
}
