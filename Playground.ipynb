{
 "cells": [
  {
   "cell_type": "code",
   "execution_count": 1,
   "metadata": {
    "ExecuteTime": {
     "end_time": "2020-05-04T20:00:57.105519Z",
     "start_time": "2020-05-04T20:00:55.763058Z"
    }
   },
   "outputs": [],
   "source": [
    "import matplotlib\n",
    "import matplotlib.pyplot as plt\n",
    "import seaborn as sns\n",
    "%matplotlib inline\n",
    "import numpy as np\n",
    "import pandas as pd\n",
    "\n",
    "## To print everything in a cell, not just the last print statement ##\n",
    "from IPython.core.interactiveshell import InteractiveShell\n",
    "InteractiveShell.ast_node_interactivity = \"all\""
   ]
  },
  {
   "cell_type": "code",
   "execution_count": 2,
   "metadata": {
    "ExecuteTime": {
     "end_time": "2020-05-04T20:01:00.256133Z",
     "start_time": "2020-05-04T20:00:57.107885Z"
    }
   },
   "outputs": [],
   "source": [
    "df = pd.read_csv('application_train.csv', header=0)"
   ]
  },
  {
   "cell_type": "code",
   "execution_count": 3,
   "metadata": {
    "ExecuteTime": {
     "end_time": "2020-05-04T20:01:00.265438Z",
     "start_time": "2020-05-04T20:01:00.258730Z"
    }
   },
   "outputs": [],
   "source": [
    "def classCountsInAnInterval(sub_df, interval):\n",
    "    \"\"\" Returns the total number of instances of  paid/unpaid loans in a given interval \"\"\"\n",
    "    \"\"\" Input: Dataframe with class counts of the interval passed \"\"\"\n",
    "    class0, class1 = 0, 0\n",
    "    # This check to handle cases where few intervals have only either paid/un-paid loans.\n",
    "    if np.isscalar(sub_df[sub_df[\"loan_paid_status\"] == 1]):\n",
    "        class0 = class0 + sub_df[sub_df[\"loan_paid_status\"] == 0]\n",
    "        class1 = class1 + sub_df[sub_df[\"loan_paid_status\"] == 1]\n",
    "    else:\n",
    "        class0 = class0 + int(sub_df[sub_df[\"loan_paid_status\"] == 0]['count'])\n",
    "        class1 = class1 + int(sub_df[sub_df[\"loan_paid_status\"] == 1]['count'])\n",
    "    return (class0+class1, class1, interval)"
   ]
  },
  {
   "cell_type": "code",
   "execution_count": 4,
   "metadata": {
    "ExecuteTime": {
     "end_time": "2020-05-04T20:01:00.277607Z",
     "start_time": "2020-05-04T20:01:00.267961Z"
    }
   },
   "outputs": [],
   "source": [
    "def getIntervalBasedCounts(df, category, no_of_bins=50):\n",
    "    \"\"\" Input: A continous numerical category \"\"\"\n",
    "    \"\"\" Create bins from the category data points and count total loans, unpaid loans for each bin \"\"\"\n",
    "    \n",
    "    # Create bins #\n",
    "    continous_numerical_category = category\n",
    "    binned_columns_name = continous_numerical_category + '_BINNED'\n",
    "    credit_and_loan_df = pd.DataFrame(data={'loan_paid_status': df['TARGET'], \n",
    "                                     continous_numerical_category: df[continous_numerical_category] })\n",
    "    credit_and_loan_df[binned_columns_name] = pd.cut(credit_and_loan_df[continous_numerical_category], \n",
    "                                                     bins = np.linspace(\n",
    "                                                         min(credit_and_loan_df[continous_numerical_category]), \n",
    "                                                         max(credit_and_loan_df[continous_numerical_category]), \n",
    "                                                         num = no_of_bins),\n",
    "                                                     retbins=False)\n",
    "    \n",
    "    # Groupby \"bin + loan_paid_status\" and agg the size of each group.\n",
    "    # This calculates the paid and unpaid loans counts in each bin.\n",
    "    credit_and_loan_df = credit_and_loan_df.groupby([binned_columns_name, 'loan_paid_status']).size().to_frame()\n",
    "    credit_and_loan_df.reset_index(inplace=True)\n",
    "    credit_and_loan_df.set_index(binned_columns_name, inplace=True)\n",
    "    \n",
    "    # Binned column is of  type \"Categorical Index\" which is not useful in that format. #\n",
    "    # Converting the bins to string format so that we can plot better based on bin. #\n",
    "    integer_intervals = list(map(lambda interval: (interval.left,interval.right), credit_and_loan_df.index))\n",
    "    credit_and_loan_df['integer_intervals'] = list(map(lambda interval: \n",
    "                                                       str(int(interval[0])) + '-' + str(int(interval[1])), \n",
    "                                                       integer_intervals))\n",
    "    credit_and_loan_df.reset_index(inplace=True)\n",
    "    # Drop the bins column of type \"Categorical Index\"\n",
    "    credit_and_loan_df = credit_and_loan_df.drop([binned_columns_name], axis=1)\n",
    "    credit_and_loan_df.set_index('integer_intervals', inplace=True)\n",
    "    credit_and_loan_df = credit_and_loan_df.rename(columns={0: \"count\"})\n",
    "    \n",
    "    # The dataframe looks like the following\n",
    "    # bin1 - loan_paid_count\n",
    "    # bin1 - loan_not_paid_count\n",
    "    # bin2 - loan_paid_count\n",
    "    # bin2 - loan_not_paid_count ...\n",
    "    \n",
    "    # Calculate the total loans and percentage of unpaid loans in each bin.\n",
    "    totalCountAndUnpaidCountPerInterval = pd.DataFrame(list(map(lambda interval: \n",
    "                                                                classCountsInAnInterval(\n",
    "                                                                    credit_and_loan_df.loc[interval], interval), \n",
    "                                                                list(set(credit_and_loan_df.index)))), \n",
    "                                                       columns=['Total Loans', 'Unpaid Loans', \n",
    "                                                                continous_numerical_category])\n",
    "    totalCountAndUnpaidCountPerInterval['percentage_unpaid_loans'] = (totalCountAndUnpaidCountPerInterval['Unpaid Loans'] \n",
    "                                                                      / totalCountAndUnpaidCountPerInterval['Total Loans']) * 100\n",
    "    return totalCountAndUnpaidCountPerInterval"
   ]
  },
  {
   "cell_type": "code",
   "execution_count": 5,
   "metadata": {
    "ExecuteTime": {
     "end_time": "2020-05-04T20:01:00.288019Z",
     "start_time": "2020-05-04T20:01:00.279196Z"
    }
   },
   "outputs": [],
   "source": [
    "def plotTotalAndUnpaidLoansPerBin(df, featureColumn, totalLoansColumn = \"Total Loans\", \n",
    "                                  unpaidLoansColumn = \"Unpaid Loans\", top_n_intervals=20, \n",
    "                                  figsize=(30, 30), transpose=False):\n",
    "    \"\"\" Plots bins versus total number of loans and unpaid loans \"\"\"\n",
    "    total_axes_data = [featureColumn, totalLoansColumn]\n",
    "    unpaid_axes_data = [featureColumn, unpaidLoansColumn]\n",
    "    if transpose:\n",
    "        total_axes_data[0], total_axes_data[1] = total_axes_data[1], total_axes_data[0]\n",
    "        unpaid_axes_data[0], unpaid_axes_data[1] = unpaid_axes_data[1], unpaid_axes_data[0]\n",
    "    sns.set(style=\"whitegrid\")\n",
    "    df = df.sort_values(totalLoansColumn, ascending=False).head(top_n_intervals)\n",
    "    # Initialize the matplotlib figure\n",
    "    f, ax = plt.subplots(figsize=figsize)\n",
    "\n",
    "    # Plot the total loans\n",
    "    sns.set_color_codes(\"pastel\")\n",
    "    sns.barplot(x=total_axes_data[0], y=total_axes_data[1], data=df, label=\"Total\", color=\"b\")\n",
    "\n",
    "    # Plot the loans which were unpaid\n",
    "    sns.set_color_codes(\"muted\")\n",
    "\n",
    "    plt.xticks(fontsize=20)\n",
    "    plt.yticks(fontsize=20)\n",
    "    plt.xlabel('xlabel', fontsize=20)\n",
    "    plt.ylabel('ylabel', fontsize=20)\n",
    "\n",
    "    sns.barplot(x=unpaid_axes_data[0], y=unpaid_axes_data[1], data=df, label=\"Unpaid Loans\", color=\"b\")\n",
    "\n",
    "    # Add a legend and informative axis label\n",
    "    ax.legend(ncol=2, loc=\"lower right\", frameon=True)\n",
    "    ax.set(ylabel=featureColumn, xlabel=\"Number of loans\")\n",
    "    sns.despine(left=True, bottom=True)\n",
    "    return df"
   ]
  },
  {
   "cell_type": "code",
   "execution_count": 6,
   "metadata": {
    "ExecuteTime": {
     "end_time": "2020-05-04T20:01:00.296909Z",
     "start_time": "2020-05-04T20:01:00.290117Z"
    }
   },
   "outputs": [],
   "source": [
    "def plotPercentageUnpaidLoansPerBin(df, feature, top_n_intervals=20, figsize=(30, 30), transpose=False):\n",
    "    \"\"\" Plots bins versus percentage of unpaid loans in that bin \"\"\"\n",
    "    font = {\n",
    "        'weight' : 'bold',\n",
    "        'size'   : 40\n",
    "    }\n",
    "    axes_data = [feature, 'percentage_unpaid_loans']\n",
    "    if transpose:\n",
    "        axes_data[0], axes_data[1] = axes_data[1], axes_data[0]\n",
    "    matplotlib.rc('font', **font)\n",
    "    f, axes = plt.subplots(1, 1, figsize=figsize)\n",
    "    plt.xticks(fontsize=20)\n",
    "    plt.yticks(fontsize=20)\n",
    "    plt.xlabel('xlabel', fontsize=10)\n",
    "    plt.ylabel('ylabel', fontsize=10)\n",
    "    df = df.sort_values('percentage_unpaid_loans',  ascending=False).head(top_n_intervals)\n",
    "    ax = sns.barplot(x=axes_data[0], y=axes_data[1], data=df, ax=axes)\n",
    "    return df"
   ]
  },
  {
   "cell_type": "code",
   "execution_count": 7,
   "metadata": {
    "ExecuteTime": {
     "end_time": "2020-05-04T20:01:00.304895Z",
     "start_time": "2020-05-04T20:01:00.299005Z"
    }
   },
   "outputs": [],
   "source": [
    "def processCategoricalFeature(category):\n",
    "    df_category = pd.DataFrame(df, columns=[category, 'TARGET'])\n",
    "    df_category = df_category.groupby([category, 'TARGET']).size().to_frame()\n",
    "    df_category.reset_index(inplace=True)\n",
    "    df_category.set_index(category, inplace=True)\n",
    "    df_category.rename(columns={0: \"count\"}, inplace=True)\n",
    "    df_category.rename(columns={'TARGET': \"loan_paid_status\"}, inplace=True)\n",
    "    df_category = pd.DataFrame(list(map(lambda interval: classCountsInAnInterval(df_category.loc[interval], interval), \n",
    "                                 list(set(df_category.index)))), \n",
    "                        columns=['Total Loans', 'Unpaid Loans', feature_name])\n",
    "    df_category['percentage_unpaid_loans'] = (df_category['Unpaid Loans'] / df_category['Total Loans']) * 100\n",
    "    return df_category"
   ]
  },
  {
   "cell_type": "code",
   "execution_count": 17,
   "metadata": {
    "ExecuteTime": {
     "end_time": "2020-05-04T20:32:48.066075Z",
     "start_time": "2020-05-04T20:32:48.063149Z"
    }
   },
   "outputs": [],
   "source": [
    "feature_name = \"NAME_INCOME_TYPE\""
   ]
  },
  {
   "cell_type": "code",
   "execution_count": 18,
   "metadata": {
    "ExecuteTime": {
     "end_time": "2020-05-04T20:32:49.070258Z",
     "start_time": "2020-05-04T20:32:49.014231Z"
    }
   },
   "outputs": [],
   "source": [
    "feature_summary = processCategoricalFeature(feature_name)"
   ]
  },
  {
   "cell_type": "code",
   "execution_count": 19,
   "metadata": {
    "ExecuteTime": {
     "end_time": "2020-05-04T20:32:50.501525Z",
     "start_time": "2020-05-04T20:32:50.097345Z"
    }
   },
   "outputs": [
    {
     "data": {
      "text/html": [
       "<div>\n",
       "<style scoped>\n",
       "    .dataframe tbody tr th:only-of-type {\n",
       "        vertical-align: middle;\n",
       "    }\n",
       "\n",
       "    .dataframe tbody tr th {\n",
       "        vertical-align: top;\n",
       "    }\n",
       "\n",
       "    .dataframe thead th {\n",
       "        text-align: right;\n",
       "    }\n",
       "</style>\n",
       "<table border=\"1\" class=\"dataframe\">\n",
       "  <thead>\n",
       "    <tr style=\"text-align: right;\">\n",
       "      <th></th>\n",
       "      <th>Total Loans</th>\n",
       "      <th>Unpaid Loans</th>\n",
       "      <th>NAME_INCOME_TYPE</th>\n",
       "      <th>percentage_unpaid_loans</th>\n",
       "    </tr>\n",
       "  </thead>\n",
       "  <tbody>\n",
       "    <tr>\n",
       "      <td>7</td>\n",
       "      <td>158774</td>\n",
       "      <td>15224</td>\n",
       "      <td>Working</td>\n",
       "      <td>9.588472</td>\n",
       "    </tr>\n",
       "    <tr>\n",
       "      <td>6</td>\n",
       "      <td>71617</td>\n",
       "      <td>5360</td>\n",
       "      <td>Commercial associate</td>\n",
       "      <td>7.484257</td>\n",
       "    </tr>\n",
       "    <tr>\n",
       "      <td>5</td>\n",
       "      <td>55362</td>\n",
       "      <td>2982</td>\n",
       "      <td>Pensioner</td>\n",
       "      <td>5.386366</td>\n",
       "    </tr>\n",
       "    <tr>\n",
       "      <td>1</td>\n",
       "      <td>21703</td>\n",
       "      <td>1249</td>\n",
       "      <td>State servant</td>\n",
       "      <td>5.754965</td>\n",
       "    </tr>\n",
       "    <tr>\n",
       "      <td>4</td>\n",
       "      <td>22</td>\n",
       "      <td>8</td>\n",
       "      <td>Unemployed</td>\n",
       "      <td>36.363636</td>\n",
       "    </tr>\n",
       "    <tr>\n",
       "      <td>2</td>\n",
       "      <td>18</td>\n",
       "      <td>0</td>\n",
       "      <td>Student</td>\n",
       "      <td>0.000000</td>\n",
       "    </tr>\n",
       "    <tr>\n",
       "      <td>3</td>\n",
       "      <td>10</td>\n",
       "      <td>0</td>\n",
       "      <td>Businessman</td>\n",
       "      <td>0.000000</td>\n",
       "    </tr>\n",
       "    <tr>\n",
       "      <td>0</td>\n",
       "      <td>5</td>\n",
       "      <td>2</td>\n",
       "      <td>Maternity leave</td>\n",
       "      <td>40.000000</td>\n",
       "    </tr>\n",
       "  </tbody>\n",
       "</table>\n",
       "</div>"
      ],
      "text/plain": [
       "   Total Loans  Unpaid Loans      NAME_INCOME_TYPE  percentage_unpaid_loans\n",
       "7       158774         15224               Working                 9.588472\n",
       "6        71617          5360  Commercial associate                 7.484257\n",
       "5        55362          2982             Pensioner                 5.386366\n",
       "1        21703          1249         State servant                 5.754965\n",
       "4           22             8            Unemployed                36.363636\n",
       "2           18             0               Student                 0.000000\n",
       "3           10             0           Businessman                 0.000000\n",
       "0            5             2       Maternity leave                40.000000"
      ]
     },
     "execution_count": 19,
     "metadata": {},
     "output_type": "execute_result"
    },
    {
     "data": {
      "image/png": "[encoded data removed]",
      "text/plain": [
       "<Figure size 360x360 with 1 Axes>"
      ]
     },
     "metadata": {},
     "output_type": "display_data"
    }
   ],
   "source": [
    "plotTotalAndUnpaidLoansPerBin(feature_summary, feature_name, figsize=(5,5), transpose=True)"
   ]
  },
  {
   "cell_type": "code",
   "execution_count": 16,
   "metadata": {
    "ExecuteTime": {
     "end_time": "2020-05-04T20:31:44.287105Z",
     "start_time": "2020-05-04T20:31:44.134220Z"
    }
   },
   "outputs": [
    {
     "data": {
      "text/html": [
       "<div>\n",
       "<style scoped>\n",
       "    .dataframe tbody tr th:only-of-type {\n",
       "        vertical-align: middle;\n",
       "    }\n",
       "\n",
       "    .dataframe tbody tr th {\n",
       "        vertical-align: top;\n",
       "    }\n",
       "\n",
       "    .dataframe thead th {\n",
       "        text-align: right;\n",
       "    }\n",
       "</style>\n",
       "<table border=\"1\" class=\"dataframe\">\n",
       "  <thead>\n",
       "    <tr style=\"text-align: right;\">\n",
       "      <th></th>\n",
       "      <th>Total Loans</th>\n",
       "      <th>Unpaid Loans</th>\n",
       "      <th>REGION_RATING_CLIENT</th>\n",
       "      <th>percentage_unpaid_loans</th>\n",
       "    </tr>\n",
       "  </thead>\n",
       "  <tbody>\n",
       "    <tr>\n",
       "      <td>2</td>\n",
       "      <td>48330</td>\n",
       "      <td>5366</td>\n",
       "      <td>3</td>\n",
       "      <td>11.102835</td>\n",
       "    </tr>\n",
       "    <tr>\n",
       "      <td>1</td>\n",
       "      <td>226984</td>\n",
       "      <td>17907</td>\n",
       "      <td>2</td>\n",
       "      <td>7.889102</td>\n",
       "    </tr>\n",
       "    <tr>\n",
       "      <td>0</td>\n",
       "      <td>32197</td>\n",
       "      <td>1552</td>\n",
       "      <td>1</td>\n",
       "      <td>4.820325</td>\n",
       "    </tr>\n",
       "  </tbody>\n",
       "</table>\n",
       "</div>"
      ],
      "text/plain": [
       "   Total Loans  Unpaid Loans  REGION_RATING_CLIENT  percentage_unpaid_loans\n",
       "2        48330          5366                     3                11.102835\n",
       "1       226984         17907                     2                 7.889102\n",
       "0        32197          1552                     1                 4.820325"
      ]
     },
     "execution_count": 16,
     "metadata": {},
     "output_type": "execute_result"
    },
    {
     "data": {
      "image/png": "[encoded data removed]",
      "text/plain": [
       "<Figure size 360x360 with 1 Axes>"
      ]
     },
     "metadata": {},
     "output_type": "display_data"
    }
   ],
   "source": [
    "plotPercentageUnpaidLoansPerBin(feature_summary, feature_name, figsize=(5,5), transpose=True)"
   ]
  },
  {
   "cell_type": "code",
   "execution_count": null,
   "metadata": {},
   "outputs": [],
   "source": []
  }
 ],
 "metadata": {
  "kernelspec": {
   "display_name": "Python 3",
   "language": "python",
   "name": "python3"
  },
  "language_info": {
   "codemirror_mode": {
    "name": "ipython",
    "version": 3
   },
   "file_extension": ".py",
   "mimetype": "text/x-python",
   "name": "python",
   "nbconvert_exporter": "python",
   "pygments_lexer": "ipython3",
   "version": "3.7.4"
  }
 },
 "nbformat": 4,
 "nbformat_minor": 2
}
